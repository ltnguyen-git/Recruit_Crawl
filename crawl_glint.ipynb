{
 "cells": [
  {
   "cell_type": "code",
   "execution_count": 1,
   "metadata": {},
   "outputs": [
    {
     "name": "stdout",
     "output_type": "stream",
     "text": [
      "Importing done\n"
     ]
    }
   ],
   "source": [
    "from selenium import webdriver\n",
    "from selenium.webdriver.common.keys import Keys\n",
    "from time import sleep\n",
    "from bs4 import BeautifulSoup\n",
    "import requests\n",
    "import pandas as pd\n",
    "from math import *\n",
    "import math\n",
    "print(\"Importing done\")"
   ]
  },
  {
   "cell_type": "code",
   "execution_count": 2,
   "metadata": {},
   "outputs": [],
   "source": [
    "driver = webdriver.Chrome()\n",
    "url = 'https://glints.com/vn/'\n",
    "driver.get(url)\n",
    "sleep(8)"
   ]
  },
  {
   "cell_type": "code",
   "execution_count": 3,
   "metadata": {},
   "outputs": [],
   "source": [
    "non_ads = driver.find_element('xpath', '//button[@class=\"ub-emb-close\"]')\n",
    "non_ads.click()\n",
    "sleep(3)"
   ]
  },
  {
   "cell_type": "code",
   "execution_count": 4,
   "metadata": {},
   "outputs": [],
   "source": [
    "login_button = driver.find_element('xpath', '//*[@id=\"__next\"]/div/div[3]/div[2]/div[1]/div/div[4]/nav/div[4]/div[3]/div/span')\n",
    "login_button.click()\n",
    "sleep(3)"
   ]
  },
  {
   "cell_type": "code",
   "execution_count": 5,
   "metadata": {},
   "outputs": [
    {
     "name": "stdout",
     "output_type": "stream",
     "text": [
      "Finish importing the login credentials\n"
     ]
    }
   ],
   "source": [
    "credential = open('account.txt')\n",
    "line = credential.readlines()\n",
    "username = line[0]\n",
    "password = line[1]\n",
    "\n",
    "print('Finish importing the login credentials')"
   ]
  },
  {
   "cell_type": "code",
   "execution_count": 6,
   "metadata": {},
   "outputs": [],
   "source": [
    "email_fields = driver.find_element('xpath', '//*[@id=\"login-form-email\"]')\n",
    "email_fields.send_keys(username)\n",
    "sleep(1)"
   ]
  },
  {
   "cell_type": "code",
   "execution_count": 7,
   "metadata": {},
   "outputs": [],
   "source": [
    "password_field = driver.find_element('xpath', '//*[@id=\"login-form-password\"]')\n",
    "password_field.send_keys(password)\n",
    "sleep(3)"
   ]
  },
  {
   "cell_type": "code",
   "execution_count": 8,
   "metadata": {},
   "outputs": [],
   "source": [
    "sleep(2)\n",
    "try:\n",
    "    login_in = driver.find_element('xpath', '/html/body/div[2]/div/div/div[3]/div[2]/div[1]/div/div[1]/div/div/div/section/div[2]/div/div[1]/form/div[4]/button')\n",
    "    login_in.click()\n",
    "    sleep(3)\n",
    "except:\n",
    "    pass"
   ]
  },
  {
   "cell_type": "code",
   "execution_count": 9,
   "metadata": {},
   "outputs": [],
   "source": [
    "search_field = driver.find_element('xpath', '/html/body/div[2]/div/div/div[3]/div[2]/div[2]/div/section/div/div[2]/div/div[1]/div/input')\n",
    "\n",
    "# search_query = input('What job do you want to search: ')\n",
    "\n",
    "key_word = 'Data analysis intern'\n",
    "search_field.send_keys(key_word)\n",
    "\n",
    "search_field.send_keys(Keys.RETURN)\n",
    "sleep(3)"
   ]
  },
  {
   "cell_type": "code",
   "execution_count": 10,
   "metadata": {},
   "outputs": [
    {
     "data": {
      "text/plain": [
       "<Response [200]>"
      ]
     },
     "execution_count": 10,
     "metadata": {},
     "output_type": "execute_result"
    }
   ],
   "source": [
    "response = requests.get(url)\n",
    "response "
   ]
  },
  {
   "cell_type": "code",
   "execution_count": 11,
   "metadata": {},
   "outputs": [
    {
     "data": {
      "text/plain": [
       "'OK'"
      ]
     },
     "execution_count": 11,
     "metadata": {},
     "output_type": "execute_result"
    }
   ],
   "source": [
    "response.reason"
   ]
  },
  {
   "cell_type": "code",
   "execution_count": 12,
   "metadata": {},
   "outputs": [
    {
     "name": "stdout",
     "output_type": "stream",
     "text": [
      "2393 việc làm Data analysis intern tại Vietnam\n",
      "['2393', 'việc', 'làm', 'Data', 'analysis', 'intern', 'tại', 'Vietnam']\n",
      "2393\n",
      "80\n"
     ]
    }
   ],
   "source": [
    "count_jobs  = driver.find_element('xpath', '//*[@id=\"__next\"]/div/div[3]/div[2]/div[2]/div[3]/h1').text\n",
    "print(count_jobs)\n",
    "print(count_jobs.split())\n",
    "for s in count_jobs.split():\n",
    "    if s.isdigit():\n",
    "        print(s)\n",
    "        number_of_page = math.ceil(int(s)/30)\n",
    "\n",
    "cards = []\n",
    "arr_link_page = []\n",
    "print(number_of_page)\n",
    "\n",
    "for i in range(1, number_of_page+1):\n",
    "    link_all_page= f'https://glints.com/vn/opportunities/jobs/explore?keyword={key_word}&country=VN&locationName=Vietnam&page={i}'\n",
    "    arr_link_page.append(link_all_page)\n",
    "    \n",
    "for link_page in arr_link_page:\n",
    "    driver.get(link_page)\n",
    "    requests.get(link_page)\n",
    "    soup =  BeautifulSoup(driver.page_source)\n",
    "    tag_cards = soup.find_all('a', 'CompactOpportunityCardsc__CardAnchorWrapper-sc-1y4v110-18 iOjUdU job-search-results_job-card_link')\n",
    "    sleep(1)\n",
    "    cards.append(tag_cards)"
   ]
  },
  {
   "cell_type": "code",
   "execution_count": 13,
   "metadata": {},
   "outputs": [
    {
     "data": {
      "text/plain": [
       "80"
      ]
     },
     "execution_count": 13,
     "metadata": {},
     "output_type": "execute_result"
    }
   ],
   "source": [
    "len(cards)"
   ]
  },
  {
   "cell_type": "code",
   "execution_count": 14,
   "metadata": {},
   "outputs": [],
   "source": [
    "# print(cards)"
   ]
  },
  {
   "cell_type": "code",
   "execution_count": 15,
   "metadata": {},
   "outputs": [
    {
     "data": {
      "text/plain": [
       "[<a class=\"CompactOpportunityCardsc__CardAnchorWrapper-sc-1y4v110-18 iOjUdU job-search-results_job-card_link\" href=\"/vn/opportunities/jobs/analyst-intern/642b60d2-0837-47a6-b3b6-07b528b49c33?utm_referrer=explore\" target=\"_blank\"></a>,\n",
       " <a class=\"CompactOpportunityCardsc__CardAnchorWrapper-sc-1y4v110-18 iOjUdU job-search-results_job-card_link\" href=\"/vn/opportunities/jobs/copywriter-intern/66085e60-ca5c-4e9a-869a-6be68aae2d38?utm_referrer=explore\" target=\"_blank\"></a>,\n",
       " <a class=\"CompactOpportunityCardsc__CardAnchorWrapper-sc-1y4v110-18 iOjUdU job-search-results_job-card_link\" href=\"/vn/opportunities/jobs/java-intern/8e3ccef3-b9f8-4e38-93f8-b8bca1974949?utm_referrer=explore\" target=\"_blank\"></a>,\n",
       " <a class=\"CompactOpportunityCardsc__CardAnchorWrapper-sc-1y4v110-18 iOjUdU job-search-results_job-card_link\" href=\"/vn/opportunities/jobs/business-analyst-intern/8cefd7e3-fc53-4b49-aceb-7dbe26110e97?utm_referrer=explore\" target=\"_blank\"></a>,\n",
       " <a class=\"CompactOpportunityCardsc__CardAnchorWrapper-sc-1y4v110-18 iOjUdU job-search-results_job-card_link\" href=\"/vn/opportunities/jobs/business-analyst-intern/d6aa0016-400b-40af-abcf-b5d6d23cfec9?utm_referrer=explore\" target=\"_blank\"></a>,\n",
       " <a class=\"CompactOpportunityCardsc__CardAnchorWrapper-sc-1y4v110-18 iOjUdU job-search-results_job-card_link\" href=\"/vn/opportunities/jobs/investment-analyst-intern/cee84b63-eb98-45ba-8510-43a6c10fb3e0?utm_referrer=explore\" target=\"_blank\"></a>,\n",
       " <a class=\"CompactOpportunityCardsc__CardAnchorWrapper-sc-1y4v110-18 iOjUdU job-search-results_job-card_link\" href=\"/vn/opportunities/jobs/research-analyst-intern/36b33228-7c64-48f9-8cb4-e3f814746add?utm_referrer=explore\" target=\"_blank\"></a>,\n",
       " <a class=\"CompactOpportunityCardsc__CardAnchorWrapper-sc-1y4v110-18 iOjUdU job-search-results_job-card_link\" href=\"/vn/opportunities/jobs/thuc-tap-sinh-it-java-intern-business-analysis-intern/3dc76b5f-2833-4985-ad5c-a846f1dee7e4?utm_referrer=explore\" target=\"_blank\"></a>,\n",
       " <a class=\"CompactOpportunityCardsc__CardAnchorWrapper-sc-1y4v110-18 iOjUdU job-search-results_job-card_link\" href=\"/vn/opportunities/jobs/business-analyst-intern/104457a4-3ce2-4375-bda3-624c116e0bde?utm_referrer=explore\" target=\"_blank\"></a>,\n",
       " <a class=\"CompactOpportunityCardsc__CardAnchorWrapper-sc-1y4v110-18 iOjUdU job-search-results_job-card_link\" href=\"/vn/opportunities/jobs/chuyen-vien-phan-tich-thong-ke-senior-data-analysis/d86cc43c-4935-42f3-9d78-5a9f1de19424?utm_referrer=explore\" target=\"_blank\"></a>,\n",
       " <a class=\"CompactOpportunityCardsc__CardAnchorWrapper-sc-1y4v110-18 iOjUdU job-search-results_job-card_link\" href=\"/vn/opportunities/jobs/business-analysis/71b11d0f-e733-485e-8b44-9983aff2d6dd?utm_referrer=explore\" target=\"_blank\"></a>,\n",
       " <a class=\"CompactOpportunityCardsc__CardAnchorWrapper-sc-1y4v110-18 iOjUdU job-search-results_job-card_link\" href=\"/vn/opportunities/jobs/data-operator/5c59fd2d-04b4-4f37-a930-751195a5111c?utm_referrer=explore\" target=\"_blank\"></a>,\n",
       " <a class=\"CompactOpportunityCardsc__CardAnchorWrapper-sc-1y4v110-18 iOjUdU job-search-results_job-card_link\" href=\"/vn/opportunities/jobs/data-engineer/7bdcd8aa-a3a2-4fad-975c-721caccde9c3?utm_referrer=explore\" target=\"_blank\"></a>,\n",
       " <a class=\"CompactOpportunityCardsc__CardAnchorWrapper-sc-1y4v110-18 iOjUdU job-search-results_job-card_link\" href=\"/vn/opportunities/jobs/data-engineer/d9a408f6-4ebb-4874-881d-ec8bb4986ea4?utm_referrer=explore\" target=\"_blank\"></a>,\n",
       " <a class=\"CompactOpportunityCardsc__CardAnchorWrapper-sc-1y4v110-18 iOjUdU job-search-results_job-card_link\" href=\"/vn/opportunities/jobs/data-engineer/1ce6c243-3b09-4c29-8b6a-58b29229489a?utm_referrer=explore\" target=\"_blank\"></a>,\n",
       " <a class=\"CompactOpportunityCardsc__CardAnchorWrapper-sc-1y4v110-18 iOjUdU job-search-results_job-card_link\" href=\"/vn/opportunities/jobs/data-engineer/c94e0a4c-7cee-4b7f-81e5-baeba1a6ba68?utm_referrer=explore\" target=\"_blank\"></a>,\n",
       " <a class=\"CompactOpportunityCardsc__CardAnchorWrapper-sc-1y4v110-18 iOjUdU job-search-results_job-card_link\" href=\"/vn/opportunities/jobs/data-scientist/fbe30d47-8908-4d65-8f4f-fa14764eb9b6?utm_referrer=explore\" target=\"_blank\"></a>,\n",
       " <a class=\"CompactOpportunityCardsc__CardAnchorWrapper-sc-1y4v110-18 iOjUdU job-search-results_job-card_link\" href=\"/vn/opportunities/jobs/data-engineer/32d0e8b2-e1c3-416a-93d3-e9996e89bad4?utm_referrer=explore\" target=\"_blank\"></a>,\n",
       " <a class=\"CompactOpportunityCardsc__CardAnchorWrapper-sc-1y4v110-18 iOjUdU job-search-results_job-card_link\" href=\"/vn/opportunities/jobs/data-engineer/5bc6473d-7bd2-447e-b4c3-e8dda7d741ad?utm_referrer=explore\" target=\"_blank\"></a>,\n",
       " <a class=\"CompactOpportunityCardsc__CardAnchorWrapper-sc-1y4v110-18 iOjUdU job-search-results_job-card_link\" href=\"/vn/opportunities/jobs/media-agency-digital-intern/3ffe15ba-9b30-47a4-90ff-6b17048d9f02?utm_referrer=explore\" target=\"_blank\"></a>,\n",
       " <a class=\"CompactOpportunityCardsc__CardAnchorWrapper-sc-1y4v110-18 iOjUdU job-search-results_job-card_link\" href=\"/vn/opportunities/jobs/pr-internal-intern/05ed1909-e8b2-464b-a3c0-edc57c7eb7d9?utm_referrer=explore\" target=\"_blank\"></a>,\n",
       " <a class=\"CompactOpportunityCardsc__CardAnchorWrapper-sc-1y4v110-18 iOjUdU job-search-results_job-card_link\" href=\"/vn/opportunities/jobs/financial-analysis-officer/0be082e4-358d-49dc-877f-ba7400fb9f09?utm_referrer=explore\" target=\"_blank\"></a>,\n",
       " <a class=\"CompactOpportunityCardsc__CardAnchorWrapper-sc-1y4v110-18 iOjUdU job-search-results_job-card_link\" href=\"/vn/opportunities/jobs/fresher-data-engineer/5ff8d833-a1af-4766-98c0-9d460402e2de?utm_referrer=explore\" target=\"_blank\"></a>,\n",
       " <a class=\"CompactOpportunityCardsc__CardAnchorWrapper-sc-1y4v110-18 iOjUdU job-search-results_job-card_link\" href=\"/vn/opportunities/jobs/technical-data-steward/20bd32c1-f089-460d-979e-a4a74cfc1fad?utm_referrer=explore\" target=\"_blank\"></a>,\n",
       " <a class=\"CompactOpportunityCardsc__CardAnchorWrapper-sc-1y4v110-18 iOjUdU job-search-results_job-card_link\" href=\"/vn/opportunities/jobs/technical-data-steward/d8adaf36-6d8a-4285-9b4b-4da2a26f6354?utm_referrer=explore\" target=\"_blank\"></a>,\n",
       " <a class=\"CompactOpportunityCardsc__CardAnchorWrapper-sc-1y4v110-18 iOjUdU job-search-results_job-card_link\" href=\"/vn/opportunities/jobs/data-entry-logistic/81d5c8d3-6b8e-4478-bb9d-e63f0a3e8220?utm_referrer=explore\" target=\"_blank\"></a>,\n",
       " <a class=\"CompactOpportunityCardsc__CardAnchorWrapper-sc-1y4v110-18 iOjUdU job-search-results_job-card_link\" href=\"/vn/opportunities/jobs/big-data-engineer/7ad0e409-e96b-4343-ac4a-0c7e2e3a1064?utm_referrer=explore\" target=\"_blank\"></a>,\n",
       " <a class=\"CompactOpportunityCardsc__CardAnchorWrapper-sc-1y4v110-18 iOjUdU job-search-results_job-card_link\" href=\"/vn/opportunities/jobs/hcm-data-engineer/97ccdfeb-b17e-4733-837a-bb8d217d7d7c?utm_referrer=explore\" target=\"_blank\"></a>,\n",
       " <a class=\"CompactOpportunityCardsc__CardAnchorWrapper-sc-1y4v110-18 iOjUdU job-search-results_job-card_link\" href=\"/vn/opportunities/jobs/data-mapping-intership/72de9c8d-24c2-481d-971b-9b80876f7aba?utm_referrer=explore\" target=\"_blank\"></a>,\n",
       " <a class=\"CompactOpportunityCardsc__CardAnchorWrapper-sc-1y4v110-18 iOjUdU job-search-results_job-card_link\" href=\"/vn/opportunities/jobs/hcm-data-scientist/af1c8e23-faf4-4288-b0eb-c1f1185e9d07?utm_referrer=explore\" target=\"_blank\"></a>]"
      ]
     },
     "execution_count": 15,
     "metadata": {},
     "output_type": "execute_result"
    }
   ],
   "source": [
    "cards[1]"
   ]
  },
  {
   "cell_type": "code",
   "execution_count": 16,
   "metadata": {},
   "outputs": [],
   "source": [
    "link_job= []\n",
    "for link in cards[:3]:\n",
    "    for tag_a in link:\n",
    "        link_job.append('https://glints.com' + tag_a.get('href'))"
   ]
  },
  {
   "cell_type": "code",
   "execution_count": 17,
   "metadata": {},
   "outputs": [],
   "source": [
    "# print(link_job)"
   ]
  },
  {
   "cell_type": "code",
   "execution_count": 18,
   "metadata": {},
   "outputs": [
    {
     "data": {
      "text/plain": [
       "90"
      ]
     },
     "execution_count": 18,
     "metadata": {},
     "output_type": "execute_result"
    }
   ],
   "source": [
    "len(link_job)"
   ]
  },
  {
   "cell_type": "code",
   "execution_count": 19,
   "metadata": {},
   "outputs": [],
   "source": [
    "link_job_on_glint =[]\n",
    "form = []\n",
    "position =[]\n",
    "name_company = []\n",
    "company_website = []\n",
    "job_category=[]\n",
    "experience=[]\n",
    "salary= []\n",
    "skills=[]\n",
    "job_description = []\n"
   ]
  },
  {
   "cell_type": "code",
   "execution_count": 20,
   "metadata": {},
   "outputs": [],
   "source": [
    "for job_link in link_job:\n",
    "    driver.get(job_link)\n",
    "    sleep(3)\n",
    "    page_source = driver.page_source\n",
    "    soup =  BeautifulSoup(page_source, 'html.parser')\n",
    "\n",
    "    link_job_on_glint.append(job_link)\n",
    "    try:\n",
    "        position_test = driver.find_element('xpath', '//*[@id=\"__next\"]/div/div[3]/div[2]/div[2]/div[2]/div/main/div[1]/div[2]/div/div[1]/h1').text\n",
    "        position.append(position_test)\n",
    "    except:\n",
    "        pass\n",
    "    \n",
    "    try:\n",
    "        form_test = driver.find_element('xpath', '//*[@id=\"__next\"]/div/div[3]/div[2]/div[2]/div[2]/div/main/div[3]/div[3]').text\n",
    "        form.append(form_test)\n",
    "    except:\n",
    "        form.append('nan')\n",
    "    \n",
    "    try:\n",
    "        name_company.append(driver.find_element('xpath', '//*[@id=\"__next\"]/div/div[3]/div[2]/div[2]/div[2]/div/main/div[1]/div[2]/div/div[2]/div/a').text)\n",
    "    except:\n",
    "        name_company.append('nan')\n",
    "\n",
    "    try:\n",
    "        job_category.append(driver.find_element('xpath','//*[@id=\"__next\"]/div/div[3]/div[2]/div[2]/div[2]/div/main/div[3]/div[2]/a').text)\n",
    "    except:\n",
    "        job_category.append('nan')\n",
    "    try:\n",
    "        experience.append(driver.find_element('xpath', '//*[@id=\"__next\"]/div/div[3]/div[2]/div[2]/div[2]/div/main/div[3]/div[4]').text)\n",
    "    except:\n",
    "        experience.append('nan')\n",
    "\n",
    "    try:\n",
    "        salary.append(driver.find_element('xpath', '//*[@id=\"__next\"]/div/div[3]/div[2]/div[2]/div[2]/div/main/div[3]/div[1]/span[1]').text)\n",
    "    except:\n",
    "        salary.append('nan')\n",
    "\n",
    "    try:\n",
    "        skill_test = soup.find_all('label', 'TagStyle__TagContent-sc-66xi2f-0 bxpfKm tag-content')\n",
    "        # skill_test = driver.find_element('xpath','//*[@id=\"__next\"]/div/div[3]/div[2]/div[2]/div[2]/div/main/div[6]/div[2]/label'.text)\n",
    "        skills.append(skill_test)\n",
    "        # skills.append(driver.find_element('xpath', '//*[@id=\"__next\"]/div/div[3]/div[2]/div[2]/div[2]/div/main/div[5]/div[2]/label').text)\n",
    "    except:\n",
    "        skills.append('nan')\n",
    "    \n",
    "\n",
    "\n",
    "    try:    \n",
    "        # driver.execute_script('window.scrollTo(0, 450)')\n",
    "        # sleep(3)\n",
    "        tag_link_company = driver.find_element('xpath','/html/body/div[2]/div/div/div[3]/div[2]/div[2]/div[2]/div/main/div[8]/div/div[2]/div[2]/div[3]/div/a').get_attribute(\"href\")\n",
    "        # tag_link_company = driver.find_element('xpath','//*[@id=\"__next\"]/div/div[3]').get_attribute(\"href\").text\n",
    "        company_website.append(tag_link_company)\n",
    "\n",
    "        # web = soup.find_all('div', 'AboutCompanySectionsc__Website-sc-7g2mk6-9 ksXTbe')\n",
    "        # for w in web:\n",
    "        #     link_web = w.find('a')\n",
    "        #     company_website.append(link_web['href'])\n",
    "\n",
    "    except:\n",
    "        try:\n",
    "            # tag_link_company = driver.find_element('xpath', '//*[@id=\"__next\"]/div/div[3]/div[2]/div[2]/div[2]/div/main/div[1]/div[2]/div/div[2]/div/a').get_attribute('href')\n",
    "            tag_link_company= driver.find_element('xpath', '//*[@id=\"__next\"]/div/div[3]/div[2]/div[2]/div[2]/div/main/div[1]/div[2]/div/div[2]/div/a').get_attribute(\"href\")\n",
    "            company_website.append(tag_link_company)\n",
    "        except:\n",
    "            company_website.append('nan') \n",
    "    # sleep(3) \n",
    "    # job_description.append(driver.find_element('xpath', '//*[@id=\"__next\"]/div/div[3]/div[2]/div[2]/div[2]/div/main/div[6]/div[2]/div/div/div/div/div/div/div/span[@data-offset-key=\"fj0an-0-0\"]'))"
   ]
  },
  {
   "cell_type": "code",
   "execution_count": 21,
   "metadata": {},
   "outputs": [],
   "source": [
    "df =pd.DataFrame({'position':position,\n",
    "                  'name_company':name_company,\n",
    "                  'company_website':company_website,\n",
    "                  'form' : form,\n",
    "                  'job_category': job_category,\n",
    "                  'experience':experience,\n",
    "                  'salary':salary,\n",
    "                  'skills':skills,\n",
    "                  'link_job_on_glint': link_job_on_glint,\n",
    "                #   'job_description':job_description,\n",
    "                 }, columns = ['position','name_company','company_website','form','job_category','experience','salary','skills','link_job_on_glint'])"
   ]
  },
  {
   "cell_type": "code",
   "execution_count": 22,
   "metadata": {},
   "outputs": [
    {
     "data": {
      "text/html": [
       "<div>\n",
       "<style scoped>\n",
       "    .dataframe tbody tr th:only-of-type {\n",
       "        vertical-align: middle;\n",
       "    }\n",
       "\n",
       "    .dataframe tbody tr th {\n",
       "        vertical-align: top;\n",
       "    }\n",
       "\n",
       "    .dataframe thead th {\n",
       "        text-align: right;\n",
       "    }\n",
       "</style>\n",
       "<table border=\"1\" class=\"dataframe\">\n",
       "  <thead>\n",
       "    <tr style=\"text-align: right;\">\n",
       "      <th></th>\n",
       "      <th>position</th>\n",
       "      <th>name_company</th>\n",
       "      <th>company_website</th>\n",
       "      <th>form</th>\n",
       "      <th>job_category</th>\n",
       "      <th>experience</th>\n",
       "      <th>salary</th>\n",
       "      <th>skills</th>\n",
       "      <th>link_job_on_glint</th>\n",
       "    </tr>\n",
       "  </thead>\n",
       "  <tbody>\n",
       "    <tr>\n",
       "      <th>0</th>\n",
       "      <td>DATA ANALYSIS</td>\n",
       "      <td>Công ty Cổ phần Công nghệ ISOFH</td>\n",
       "      <td>https://isofh.com/</td>\n",
       "      <td>Việc làm fulltime</td>\n",
       "      <td>Data Science</td>\n",
       "      <td>1 - 3 năm kinh nghiệm</td>\n",
       "      <td>VND10.000.000 - 20.000.000/Tháng</td>\n",
       "      <td>[[MySQL], [MS Excel VBA], [Database], [Data An...</td>\n",
       "      <td>https://glints.com/vn/opportunities/jobs/data-...</td>\n",
       "    </tr>\n",
       "    <tr>\n",
       "      <th>1</th>\n",
       "      <td>Data Analysis</td>\n",
       "      <td>CÔNG TY CỔ PHẦN FSN ( LIME ORANGE )</td>\n",
       "      <td>https://glints.com/vn/companies/cong-ty-co-pha...</td>\n",
       "      <td>Việc làm fulltime</td>\n",
       "      <td>Data Science</td>\n",
       "      <td>3 - 5 năm kinh nghiệm</td>\n",
       "      <td>VND18.000.000/Tháng</td>\n",
       "      <td>[[Exploratory Data Analysis], [Excel Data Anal...</td>\n",
       "      <td>https://glints.com/vn/opportunities/jobs/data-...</td>\n",
       "    </tr>\n",
       "    <tr>\n",
       "      <th>2</th>\n",
       "      <td>DATA ANALYST INTERN</td>\n",
       "      <td>GenKin</td>\n",
       "      <td>https://genkin.com.vn/</td>\n",
       "      <td>Việc làm fulltime</td>\n",
       "      <td>Data Science</td>\n",
       "      <td>Dưới một năm kinh nghiệm</td>\n",
       "      <td>VND5.000.000/Tháng</td>\n",
       "      <td>[[English], [Tableau], [Python Programming], [...</td>\n",
       "      <td>https://glints.com/vn/opportunities/jobs/data-...</td>\n",
       "    </tr>\n",
       "    <tr>\n",
       "      <th>3</th>\n",
       "      <td>Senior Data Analysis</td>\n",
       "      <td>CÔNG TY CỔ PHẦN FSN ( LIME ORANGE )</td>\n",
       "      <td>https://glints.com/vn/companies/cong-ty-co-pha...</td>\n",
       "      <td>Việc làm fulltime</td>\n",
       "      <td>Data Science</td>\n",
       "      <td>3 - 5 năm kinh nghiệm</td>\n",
       "      <td>VND18.000.000/Tháng</td>\n",
       "      <td>[[Marketing Data Analyst], [Senior Data Analys...</td>\n",
       "      <td>https://glints.com/vn/opportunities/jobs/senio...</td>\n",
       "    </tr>\n",
       "    <tr>\n",
       "      <th>4</th>\n",
       "      <td>Data Analyst</td>\n",
       "      <td>Công Ty CellphoneS</td>\n",
       "      <td>http://cellphones.com.vn/</td>\n",
       "      <td>Việc làm fulltime</td>\n",
       "      <td>Data Science</td>\n",
       "      <td>1 - 3 năm kinh nghiệm</td>\n",
       "      <td>VND12.000.000 - 20.000.000/Tháng</td>\n",
       "      <td>[[SQL], [Python], [Data Analysis], [Microsoft ...</td>\n",
       "      <td>https://glints.com/vn/opportunities/jobs/data-...</td>\n",
       "    </tr>\n",
       "    <tr>\n",
       "      <th>...</th>\n",
       "      <td>...</td>\n",
       "      <td>...</td>\n",
       "      <td>...</td>\n",
       "      <td>...</td>\n",
       "      <td>...</td>\n",
       "      <td>...</td>\n",
       "      <td>...</td>\n",
       "      <td>...</td>\n",
       "      <td>...</td>\n",
       "    </tr>\n",
       "    <tr>\n",
       "      <th>85</th>\n",
       "      <td>HR INTERN</td>\n",
       "      <td>Công Ty Chubb Life Việt Nam</td>\n",
       "      <td>https://glints.com/vn/companies/cong-ty-chubb-...</td>\n",
       "      <td>Thực Tập</td>\n",
       "      <td>Human Resource</td>\n",
       "      <td>Dưới một năm kinh nghiệm</td>\n",
       "      <td>USD100 - 200/Tháng</td>\n",
       "      <td>[[Active Listening], [Planning], [Communicatio...</td>\n",
       "      <td>https://glints.com/vn/opportunities/jobs/hr-in...</td>\n",
       "    </tr>\n",
       "    <tr>\n",
       "      <th>86</th>\n",
       "      <td>Account Intern</td>\n",
       "      <td>Real Up Agency</td>\n",
       "      <td>https://glints.com/vn/companies/real-up-agency...</td>\n",
       "      <td>Việc làm fulltime</td>\n",
       "      <td>Business Development / Sales</td>\n",
       "      <td>Dưới một năm kinh nghiệm</td>\n",
       "      <td>VND2.500.000 - 4.000.000/Tháng</td>\n",
       "      <td>[[Work Under Pressure], [Writing], [Presentati...</td>\n",
       "      <td>https://glints.com/vn/opportunities/jobs/accou...</td>\n",
       "    </tr>\n",
       "    <tr>\n",
       "      <th>87</th>\n",
       "      <td>Sale Intern</td>\n",
       "      <td>Công Ty Tnhh Le Nom Việt Nam</td>\n",
       "      <td>https://glints.com/vn/companies/cong-ty-tnhh-l...</td>\n",
       "      <td>Việc làm fulltime</td>\n",
       "      <td>Other</td>\n",
       "      <td>Dưới một năm kinh nghiệm</td>\n",
       "      <td>IDR1.000.000 - 3.000.000/Tháng</td>\n",
       "      <td>[[Hardworking], [Good Listener], [Time Managem...</td>\n",
       "      <td>https://glints.com/vn/opportunities/jobs/sale-...</td>\n",
       "    </tr>\n",
       "    <tr>\n",
       "      <th>88</th>\n",
       "      <td>Account Intern</td>\n",
       "      <td>Maido Agency</td>\n",
       "      <td>https://maido.agency/</td>\n",
       "      <td>Việc làm part time</td>\n",
       "      <td>Business Development / Sales</td>\n",
       "      <td>Đăng 6 ngày trướcCập nhật 2 ngày trước</td>\n",
       "      <td>VND3.000.000 - 5.000.000/Tháng</td>\n",
       "      <td>[[Communication], [Client Relations], [Client ...</td>\n",
       "      <td>https://glints.com/vn/opportunities/jobs/accou...</td>\n",
       "    </tr>\n",
       "    <tr>\n",
       "      <th>89</th>\n",
       "      <td>Intern Developer</td>\n",
       "      <td>Cốc Cốc</td>\n",
       "      <td>https://glints.com/vn/companies/coc-coc/4089a7...</td>\n",
       "      <td>Thực Tập</td>\n",
       "      <td>Software Engineering</td>\n",
       "      <td>Đăng 15 ngày trướcCập nhật 15 ngày trước</td>\n",
       "      <td>USD150 - 350/Tháng</td>\n",
       "      <td>[[Html/css], [Linux], [C++]]</td>\n",
       "      <td>https://glints.com/vn/opportunities/jobs/inter...</td>\n",
       "    </tr>\n",
       "  </tbody>\n",
       "</table>\n",
       "<p>90 rows × 9 columns</p>\n",
       "</div>"
      ],
      "text/plain": [
       "                position                         name_company  \\\n",
       "0          DATA ANALYSIS      Công ty Cổ phần Công nghệ ISOFH   \n",
       "1          Data Analysis  CÔNG TY CỔ PHẦN FSN ( LIME ORANGE )   \n",
       "2    DATA ANALYST INTERN                               GenKin   \n",
       "3   Senior Data Analysis  CÔNG TY CỔ PHẦN FSN ( LIME ORANGE )   \n",
       "4           Data Analyst                   Công Ty CellphoneS   \n",
       "..                   ...                                  ...   \n",
       "85             HR INTERN          Công Ty Chubb Life Việt Nam   \n",
       "86        Account Intern                       Real Up Agency   \n",
       "87           Sale Intern         Công Ty Tnhh Le Nom Việt Nam   \n",
       "88        Account Intern                         Maido Agency   \n",
       "89      Intern Developer                              Cốc Cốc   \n",
       "\n",
       "                                      company_website                form  \\\n",
       "0                                  https://isofh.com/   Việc làm fulltime   \n",
       "1   https://glints.com/vn/companies/cong-ty-co-pha...   Việc làm fulltime   \n",
       "2                              https://genkin.com.vn/   Việc làm fulltime   \n",
       "3   https://glints.com/vn/companies/cong-ty-co-pha...   Việc làm fulltime   \n",
       "4                           http://cellphones.com.vn/   Việc làm fulltime   \n",
       "..                                                ...                 ...   \n",
       "85  https://glints.com/vn/companies/cong-ty-chubb-...            Thực Tập   \n",
       "86  https://glints.com/vn/companies/real-up-agency...   Việc làm fulltime   \n",
       "87  https://glints.com/vn/companies/cong-ty-tnhh-l...   Việc làm fulltime   \n",
       "88                              https://maido.agency/  Việc làm part time   \n",
       "89  https://glints.com/vn/companies/coc-coc/4089a7...            Thực Tập   \n",
       "\n",
       "                    job_category                                experience  \\\n",
       "0                   Data Science                     1 - 3 năm kinh nghiệm   \n",
       "1                   Data Science                     3 - 5 năm kinh nghiệm   \n",
       "2                   Data Science                  Dưới một năm kinh nghiệm   \n",
       "3                   Data Science                     3 - 5 năm kinh nghiệm   \n",
       "4                   Data Science                     1 - 3 năm kinh nghiệm   \n",
       "..                           ...                                       ...   \n",
       "85                Human Resource                  Dưới một năm kinh nghiệm   \n",
       "86  Business Development / Sales                  Dưới một năm kinh nghiệm   \n",
       "87                         Other                  Dưới một năm kinh nghiệm   \n",
       "88  Business Development / Sales    Đăng 6 ngày trướcCập nhật 2 ngày trước   \n",
       "89          Software Engineering  Đăng 15 ngày trướcCập nhật 15 ngày trước   \n",
       "\n",
       "                              salary  \\\n",
       "0   VND10.000.000 - 20.000.000/Tháng   \n",
       "1                VND18.000.000/Tháng   \n",
       "2                 VND5.000.000/Tháng   \n",
       "3                VND18.000.000/Tháng   \n",
       "4   VND12.000.000 - 20.000.000/Tháng   \n",
       "..                               ...   \n",
       "85                USD100 - 200/Tháng   \n",
       "86    VND2.500.000 - 4.000.000/Tháng   \n",
       "87    IDR1.000.000 - 3.000.000/Tháng   \n",
       "88    VND3.000.000 - 5.000.000/Tháng   \n",
       "89                USD150 - 350/Tháng   \n",
       "\n",
       "                                               skills  \\\n",
       "0   [[MySQL], [MS Excel VBA], [Database], [Data An...   \n",
       "1   [[Exploratory Data Analysis], [Excel Data Anal...   \n",
       "2   [[English], [Tableau], [Python Programming], [...   \n",
       "3   [[Marketing Data Analyst], [Senior Data Analys...   \n",
       "4   [[SQL], [Python], [Data Analysis], [Microsoft ...   \n",
       "..                                                ...   \n",
       "85  [[Active Listening], [Planning], [Communicatio...   \n",
       "86  [[Work Under Pressure], [Writing], [Presentati...   \n",
       "87  [[Hardworking], [Good Listener], [Time Managem...   \n",
       "88  [[Communication], [Client Relations], [Client ...   \n",
       "89                       [[Html/css], [Linux], [C++]]   \n",
       "\n",
       "                                    link_job_on_glint  \n",
       "0   https://glints.com/vn/opportunities/jobs/data-...  \n",
       "1   https://glints.com/vn/opportunities/jobs/data-...  \n",
       "2   https://glints.com/vn/opportunities/jobs/data-...  \n",
       "3   https://glints.com/vn/opportunities/jobs/senio...  \n",
       "4   https://glints.com/vn/opportunities/jobs/data-...  \n",
       "..                                                ...  \n",
       "85  https://glints.com/vn/opportunities/jobs/hr-in...  \n",
       "86  https://glints.com/vn/opportunities/jobs/accou...  \n",
       "87  https://glints.com/vn/opportunities/jobs/sale-...  \n",
       "88  https://glints.com/vn/opportunities/jobs/accou...  \n",
       "89  https://glints.com/vn/opportunities/jobs/inter...  \n",
       "\n",
       "[90 rows x 9 columns]"
      ]
     },
     "execution_count": 22,
     "metadata": {},
     "output_type": "execute_result"
    }
   ],
   "source": [
    "df"
   ]
  }
 ],
 "metadata": {
  "kernelspec": {
   "display_name": "Python 3",
   "language": "python",
   "name": "python3"
  },
  "language_info": {
   "codemirror_mode": {
    "name": "ipython",
    "version": 3
   },
   "file_extension": ".py",
   "mimetype": "text/x-python",
   "name": "python",
   "nbconvert_exporter": "python",
   "pygments_lexer": "ipython3",
   "version": "3.9.13"
  },
  "orig_nbformat": 4,
  "vscode": {
   "interpreter": {
    "hash": "90fee8763d76b2516181321d6a2084a8775622914896b9db6868725b6ee87a03"
   }
  }
 },
 "nbformat": 4,
 "nbformat_minor": 2
}
